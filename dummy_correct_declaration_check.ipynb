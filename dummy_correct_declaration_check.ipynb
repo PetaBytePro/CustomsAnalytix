{
  "nbformat": 4,
  "nbformat_minor": 0,
  "metadata": {
    "colab": {
      "provenance": []
    },
    "kernelspec": {
      "name": "python3",
      "display_name": "Python 3"
    },
    "language_info": {
      "name": "python"
    }
  },
  "cells": [
    {
      "cell_type": "code",
      "source": [
        "!pip install catboost"
      ],
      "metadata": {
        "id": "nLwn4wqdHW5j"
      },
      "execution_count": null,
      "outputs": []
    },
    {
      "cell_type": "code",
      "execution_count": ,
      "metadata": {
        "id": "YuDRlc-pGv07"
      },
      "outputs": [],
      "source": [
        "# Data Manipulation Libraries\n",
        "import pandas as pd\n",
        "import numpy as np\n",
        "\n",
        "# Machine Learning Libraries\n",
        "import catboost\n",
        "from catboost import CatBoostClassifier\n",
        "import sklearn\n",
        "from sklearn.metrics import roc_auc_score\n",
        "from sklearn.preprocessing import StandardScaler\n",
        "from sklearn.model_selection import train_test_split\n",
        "\n",
        "# Data Visualization Libraries\n",
        "import seaborn as sns\n",
        "import matplotlib.pyplot as plt\n",
        "%matplotlib inline"
      ]
    },
    {
      "cell_type": "code",
      "source": [
        "# Read our dataset\n",
        "df = pd.read_csv('data.csv')\n",
        "\n",
        "# Split our features and labels\n",
        "X = df.drop(columns=['label'])\n",
        "y = df['label']"
      ],
      "metadata": {
        "id": "ssL9O73CHbZF"
      },
      "execution_count": null,
      "outputs": []
    },
    {
      "cell_type": "code",
      "source": [
        "# Separate quantitative and qualitative columns\n",
        "X_quan = X.select_dtypes(include=['int64', 'float64'])\n",
        "X_qual = X.select_dtypes(include=['object', 'category'])"
      ],
      "metadata": {
        "id": "NU1X0N5JInw8"
      },
      "execution_count": ,
      "outputs": []
    },
    {
      "cell_type": "code",
      "source": [
        "# Initialize the StandardScaler\n",
        "scaler = StandardScaler()\n",
        "\n",
        "# Fit the scaler to the data and transform it\n",
        "X_quan_standardized = scaler.fit_transform(X_quan)\n",
        "\n",
        "# Convert the result back to a DataFrame for better visualization and further processing\n",
        "X_quan_standardized = pd.DataFrame(X_quan_standardized, columns=X_quan.columns)"
      ],
      "metadata": {
        "id": "DssiyLm8JMD8"
      },
      "execution_count": ,
      "outputs": []
    },
    {
      "cell_type": "code",
      "source": [
        "# Assuming X_qual is already defined as shown in previous steps\n",
        "X_combined = pd.concat([X_quan_standardized, X_qual], axis=1)\n",
        "\n",
        "# Split our data for train and test\n",
        "X_train, X_test, y_train, y_test = train_test_split(X_combined, y, test_size=0.2, random_state=42, stratify=y)\n",
        "\n",
        "# Initialize the classifier\n",
        "clf = CatBoostClassifier(iterations=500, depth=10, learning_rate=0.05, verbose=100)\n",
        "\n",
        "# Train the classifier\n",
        "clf.fit(X_train, y_train, cat_features=X_qual.columns.tolist(), eval_set=(X_test, y_test))\n",
        "\n",
        "# Evaluate the model on the test set\n",
        "y_pred = clf.predict(X_test)\n",
        "accuracy = roc_auc_score(y_test, y_pred)\n",
        "print(f'Balanced Accuracy: {accuracy:.3f}')"
      ],
      "metadata": {
        "id": "JT9Up599JjrV"
      },
      "execution_count": null,
      "outputs": []
    },
    {
      "cell_type": "code",
      "source": [
        "model_path = 'model.cbm'\n",
        "clf.save_model(model_path, format='cbm')\n",
        "\n",
        "print(f'Model saved to {model_path}')"
      ],
      "metadata": {
        "id": "z1vTEZ4FK7ym"
      },
      "execution_count": null,
      "outputs": []
    }
  ]
}
